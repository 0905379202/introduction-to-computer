{
  "nbformat": 4,
  "nbformat_minor": 0,
  "metadata": {
    "colab": {
      "provenance": [],
      "authorship_tag": "ABX9TyMMRosqLXFL9Nz0nyHjnLZH",
      "include_colab_link": true
    },
    "kernelspec": {
      "name": "python3",
      "display_name": "Python 3"
    },
    "language_info": {
      "name": "python"
    }
  },
  "cells": [
    {
      "cell_type": "markdown",
      "metadata": {
        "id": "view-in-github",
        "colab_type": "text"
      },
      "source": [
        "<a href=\"https://colab.research.google.com/github/0905379202/introduction-to-computer/blob/main/0501.ipynb\" target=\"_parent\"><img src=\"https://colab.research.google.com/assets/colab-badge.svg\" alt=\"Open In Colab\"/></a>"
      ]
    },
    {
      "cell_type": "code",
      "execution_count": 1,
      "metadata": {
        "colab": {
          "base_uri": "https://localhost:8080/"
        },
        "id": "ftmGzH6qRUMO",
        "outputId": "cf8a7656-771a-4bbc-8377-813067d06c07"
      },
      "outputs": [
        {
          "output_type": "stream",
          "name": "stdout",
          "text": [
            "Hello World\n"
          ]
        }
      ],
      "source": [
        "print(\"Hello World\")"
      ]
    },
    {
      "cell_type": "code",
      "source": [
        "N = 1+2+3+4+5\n",
        "print(N)"
      ],
      "metadata": {
        "colab": {
          "base_uri": "https://localhost:8080/"
        },
        "id": "tdrywvSIRkDy",
        "outputId": "f89478cf-cd8b-4d9b-edc4-990a16fcdd44"
      },
      "execution_count": 2,
      "outputs": [
        {
          "output_type": "stream",
          "name": "stdout",
          "text": [
            "15\n"
          ]
        }
      ]
    },
    {
      "cell_type": "code",
      "source": [
        "print(\"請輸入華氏f\")\n",
        "f=float(input())\n",
        "c=(f-32)*5/9\n",
        "print(\"f=\",c,\"度c\")\n"
      ],
      "metadata": {
        "colab": {
          "base_uri": "https://localhost:8080/"
        },
        "id": "GxQLsG2gWTDx",
        "outputId": "f6594513-7900-4064-adc5-69f11b642b28"
      },
      "execution_count": 5,
      "outputs": [
        {
          "output_type": "stream",
          "name": "stdout",
          "text": [
            "請輸入華氏f\n",
            "100\n",
            "f= 37.77777777777778 度c\n"
          ]
        }
      ]
    },
    {
      "cell_type": "code",
      "source": [
        "本金和 = 10000*(1+0.02)**6\n",
        "print(本金和)"
      ],
      "metadata": {
        "colab": {
          "base_uri": "https://localhost:8080/"
        },
        "id": "ZtiebaByYO2s",
        "outputId": "a7c9432f-d67c-4862-c49e-f221c0ac89d9"
      },
      "execution_count": 8,
      "outputs": [
        {
          "output_type": "stream",
          "name": "stdout",
          "text": [
            "11261.62419264\n"
          ]
        }
      ]
    },
    {
      "cell_type": "code",
      "source": [],
      "metadata": {
        "id": "zmf47OnzX4I_"
      },
      "execution_count": 3,
      "outputs": []
    }
  ]
}