{
  "nbformat": 4,
  "nbformat_minor": 0,
  "metadata": {
    "colab": {
      "provenance": [],
      "authorship_tag": "ABX9TyPzWrJkN7QuIaobaYJIm5fy",
      "include_colab_link": true
    },
    "kernelspec": {
      "name": "python3",
      "display_name": "Python 3"
    },
    "language_info": {
      "name": "python"
    }
  },
  "cells": [
    {
      "cell_type": "markdown",
      "metadata": {
        "id": "view-in-github",
        "colab_type": "text"
      },
      "source": [
        "<a href=\"https://colab.research.google.com/github/0905379202/introduction-to-computer/blob/main/0515.ipynb\" target=\"_parent\"><img src=\"https://colab.research.google.com/assets/colab-badge.svg\" alt=\"Open In Colab\"/></a>"
      ]
    },
    {
      "cell_type": "code",
      "execution_count": null,
      "metadata": {
        "colab": {
          "base_uri": "https://localhost:8080/"
        },
        "id": "t1Xiv2X56zI8",
        "outputId": "4108488a-f36f-4653-bc78-075940f7ccf4"
      },
      "outputs": [
        {
          "output_type": "stream",
          "name": "stdout",
          "text": [
            "请输入月份（1-12）：3\n",
            "3月是春天！\n"
          ]
        }
      ],
      "source": [
        "def determine_season(month):\n",
        "    if month in [3, 4, 5]:\n",
        "        print(f\"{month}月是春天！\")\n",
        "    elif month in [6, 7, 8]:\n",
        "        print(f\"{month}月是夏天！\")\n",
        "    elif month in [9, 10, 11]:\n",
        "        print(f\"{month}月是秋天！\")\n",
        "    elif month in [12, 1, 2]:\n",
        "        print(f\"{month}月是冬天！\")\n",
        "    else:\n",
        "        print(\"请输入有效的月份（1-12）！\")\n",
        "\n",
        "month = int(input(\"请输入月份（1-12）：\"))\n",
        "determine_season(month)"
      ]
    },
    {
      "cell_type": "code",
      "source": [
        "def calculate_tax(income):\n",
        "    if income >= 2000000:\n",
        "        tax_rate = 0.3\n",
        "    elif income >= 1000000:\n",
        "        tax_rate = 0.21\n",
        "    elif income >= 600000:\n",
        "        tax_rate = 0.13\n",
        "    elif income >= 300000:\n",
        "        tax_rate = 0.06\n",
        "    else:\n",
        "        tax_rate = 0.0\n",
        "\n",
        "    tax_amount = income * tax_rate\n",
        "    return tax_amount\n",
        "\n",
        "income = int(input(\"请输入您的收入：\"))\n",
        "tax = calculate_tax(income)\n",
        "print(f\"您的税金金额为：{tax}\")"
      ],
      "metadata": {
        "colab": {
          "base_uri": "https://localhost:8080/"
        },
        "id": "Gdynz0ss647V",
        "outputId": "3ee78c1d-1408-46fc-eda4-c04342565367"
      },
      "execution_count": null,
      "outputs": [
        {
          "output_type": "stream",
          "name": "stdout",
          "text": [
            "请输入您的收入：300001\n",
            "您的税金金额为：18000.059999999998\n"
          ]
        }
      ]
    },
    {
      "cell_type": "code",
      "source": [
        "def determine_body_temperature(temperature):\n",
        "    if temperature >= 37.5:\n",
        "        print(\"体温过高！\")\n",
        "    elif 37 <= temperature <= 37.4:\n",
        "        print(\"体温略高！\")\n",
        "    elif 34 <= temperature <= 36.9:\n",
        "        print(\"体温正常！\")\n",
        "    elif temperature < 34:\n",
        "        print(\"体温异常，请重新量测！\")\n",
        "    else:\n",
        "        print(\"请输入有效的体温值！\")\n",
        "\n",
        "temperature = float(input(\"请输入体温：\"))\n",
        "determine_body_temperature(temperature)"
      ],
      "metadata": {
        "colab": {
          "base_uri": "https://localhost:8080/"
        },
        "id": "Wtz70B9c7DpZ",
        "outputId": "0e030142-3219-4968-d384-30951e0e404d"
      },
      "execution_count": null,
      "outputs": [
        {
          "output_type": "stream",
          "name": "stdout",
          "text": [
            "请输入体温：36\n",
            "体温正常！\n"
          ]
        }
      ]
    },
    {
      "cell_type": "code",
      "source": [
        "def determine_grade(score):\n",
        "    if score >= 90:\n",
        "        print(\"A\")\n",
        "    elif score >= 80:\n",
        "        print(\"B\")\n",
        "    elif score >= 70:\n",
        "        print(\"C\")\n",
        "    elif score >= 60:\n",
        "        print(\"D\")\n",
        "    else:\n",
        "        print(\"E\")\n",
        "\n",
        "score = float(input(\"请输入您的成绩：\"))\n",
        "determine_grade(score)"
      ],
      "metadata": {
        "colab": {
          "base_uri": "https://localhost:8080/"
        },
        "id": "aqa1NBK_7EZe",
        "outputId": "cb8b9de2-907c-4df5-8007-68a25310cda5"
      },
      "execution_count": null,
      "outputs": [
        {
          "output_type": "stream",
          "name": "stdout",
          "text": [
            "请输入您的成绩：100\n",
            "A\n"
          ]
        }
      ]
    },
    {
      "cell_type": "code",
      "source": [
        "rain = input(\"今天會下雨嗎\")\n",
        "if(rain == \"Y\" or rain == \"y\"):\n",
        "  print(\"出門記得帶傘\")\n",
        "elif(rain == \"N\" or rain == \"n\"):\n",
        "  print(\"出門不用帶傘\")\n",
        "else:\n",
        "  print(\"請重新輸入\")\n"
      ],
      "metadata": {
        "colab": {
          "base_uri": "https://localhost:8080/"
        },
        "id": "QzrrzYHW7Prz",
        "outputId": "5d974eda-5ae6-432a-a21d-0dfb12134119"
      },
      "execution_count": null,
      "outputs": [
        {
          "output_type": "stream",
          "name": "stdout",
          "text": [
            "今天會下雨嗎y\n",
            "出門記得帶傘\n"
          ]
        }
      ]
    }
  ]
}